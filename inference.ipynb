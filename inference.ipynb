{
 "cells": [
  {
   "cell_type": "code",
   "execution_count": 1,
   "metadata": {},
   "outputs": [],
   "source": [
    "import torch\n",
    "import warnings\n",
    "warnings.filterwarnings('ignore')\n",
    "\n",
    "from model import T1PlatformTransformerEncoder, T1ObjectTransformerDecoder, OPT1, OPT1Noisy\n",
    "from utils import batchestize, unbatchestize\n",
    "from env import PuzzleEnv\n",
    "from agent import Agent\n",
    "\n",
    "import random\n",
    "from time import sleep\n",
    "from torch import optim\n",
    "import matplotlib.pyplot as plt\n",
    "\n",
    "from torch import nn"
   ]
  },
  {
   "cell_type": "code",
   "execution_count": 2,
   "metadata": {},
   "outputs": [],
   "source": [
    "env = PuzzleEnv()\n",
    "\n",
    "agent = Agent()\n"
   ]
  },
  {
   "cell_type": "code",
   "execution_count": 3,
   "metadata": {},
   "outputs": [
    {
     "name": "stdout",
     "output_type": "stream",
     "text": [
      "Given length of platforms with capacities {3801.0} and objects {Puzzle_1 (size: 450), Puzzle_1 (size: 450), Puzzle_1 (size: 450), Puzzle_1 (size: 450), Puzzle_1 (size: 450), Puzzle_3 (size: 700), Puzzle_1 (size: 450), Puzzle_1 (size: 450)}, assign each object to exactly one space such that the total length of objects in each space does not exceed its capacity, and each object is placed into one space.\n"
     ]
    }
   ],
   "source": [
    "agent.inference(env, [(\"Puzzle_1\", 450), (\"Puzzle_1\", 450), (\"Puzzle_1\", 450), (\"Puzzle_1\", 450), (\"Puzzle_1\", 450), (\"Puzzle_3\", 700), (\"Puzzle_1\", 450), (\"Puzzle_1\", 450)])"
   ]
  },
  {
   "cell_type": "code",
   "execution_count": 8,
   "metadata": {},
   "outputs": [
    {
     "name": "stdout",
     "output_type": "stream",
     "text": [
      "Given length of platforms with capacities {1961.0, 3098.0, 2064.0} and objects {Puzzle_6 (size: 501.28977944659067), Puzzle_5 (size: 633.385752684587), Puzzle_2 (size: 525.0024984768335), Puzzle_2 (size: 539.7985673841042), Puzzle_5 (size: 634.340044880701), Puzzle_6 (size: 581.9982669446455), Puzzle_4 (size: 618.8266581201592), Puzzle_6 (size: 547.7847348583704), Puzzle_7 (size: 679.1447949724034), Puzzle_7 (size: 558.9382449780087), Puzzle_5 (size: 519.8446458045305), Puzzle_4 (size: 683.7774179353883), Puzzle_2 (size: 645.1875311764024), Puzzle_5 (size: 649.0387879957846), Puzzle_3 (size: 630.3938488106286)}, assign each object to exactly one space such that the total length of objects in each space does not exceed its capacity, and each object is placed into one space.\n"
     ]
    }
   ],
   "source": [
    "agent.inference_(env)"
   ]
  }
 ],
 "metadata": {
  "kernelspec": {
   "display_name": "fmgai",
   "language": "python",
   "name": "python3"
  },
  "language_info": {
   "codemirror_mode": {
    "name": "ipython",
    "version": 3
   },
   "file_extension": ".py",
   "mimetype": "text/x-python",
   "name": "python",
   "nbconvert_exporter": "python",
   "pygments_lexer": "ipython3",
   "version": "3.10.15"
  }
 },
 "nbformat": 4,
 "nbformat_minor": 2
}
